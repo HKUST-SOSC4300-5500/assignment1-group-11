{
 "cells": [
  {
   "cell_type": "markdown",
   "id": "b3d3bc03",
   "metadata": {},
   "source": [
    "# Assignment 1 - Income Prediction"
   ]
  },
  {
   "cell_type": "markdown",
   "id": "f26920cb",
   "metadata": {},
   "source": [
    "In this notebook, I will report how I process the data, compare the performance of different algorithms, and tune the parameters based on the best algorithm."
   ]
  },
  {
   "cell_type": "markdown",
   "id": "c4e2550e",
   "metadata": {},
   "source": [
    "I compared the performance of seven algorithms on this task: Gradient Tree Boosting,Decision Tree,XGBoost,Random Forest,SVM,Light GBM,Naive Bayes. And the algorithm that I found to work best on this task was XGBoost.  "
   ]
  },
  {
   "cell_type": "markdown",
   "id": "d2c7e53b",
   "metadata": {},
   "source": [
    "## Data Processing"
   ]
  },
  {
   "cell_type": "code",
   "execution_count": 2,
   "id": "b1fe93c1",
   "metadata": {},
   "outputs": [
    {
     "data": {
      "text/html": [
       "<div>\n",
       "<style scoped>\n",
       "    .dataframe tbody tr th:only-of-type {\n",
       "        vertical-align: middle;\n",
       "    }\n",
       "\n",
       "    .dataframe tbody tr th {\n",
       "        vertical-align: top;\n",
       "    }\n",
       "\n",
       "    .dataframe thead th {\n",
       "        text-align: right;\n",
       "    }\n",
       "</style>\n",
       "<table border=\"1\" class=\"dataframe\">\n",
       "  <thead>\n",
       "    <tr style=\"text-align: right;\">\n",
       "      <th></th>\n",
       "      <th>AAGE</th>\n",
       "      <th>ACLSWKR</th>\n",
       "      <th>ADTIND</th>\n",
       "      <th>ADTOCC</th>\n",
       "      <th>AHGA</th>\n",
       "      <th>AHRSPAY</th>\n",
       "      <th>AHSCOL</th>\n",
       "      <th>AMARITL</th>\n",
       "      <th>AMJIND</th>\n",
       "      <th>AMJOCC</th>\n",
       "      <th>...</th>\n",
       "      <th>PEMNTVTY</th>\n",
       "      <th>PENATVTY</th>\n",
       "      <th>PRCITSHP</th>\n",
       "      <th>SEOTR</th>\n",
       "      <th>VETQVA</th>\n",
       "      <th>VETYN</th>\n",
       "      <th>WKSWORK</th>\n",
       "      <th>year</th>\n",
       "      <th>income_morethan_50K</th>\n",
       "      <th>Id</th>\n",
       "    </tr>\n",
       "  </thead>\n",
       "  <tbody>\n",
       "    <tr>\n",
       "      <th>0</th>\n",
       "      <td>49</td>\n",
       "      <td>Private</td>\n",
       "      <td>43</td>\n",
       "      <td>2</td>\n",
       "      <td>Doctorate degree(PhD EdD)</td>\n",
       "      <td>0</td>\n",
       "      <td>Not in universe</td>\n",
       "      <td>Married-civilian spouse present</td>\n",
       "      <td>Education</td>\n",
       "      <td>Executive admin and managerial</td>\n",
       "      <td>...</td>\n",
       "      <td>United-States</td>\n",
       "      <td>United-States</td>\n",
       "      <td>Native- Born in the United States</td>\n",
       "      <td>2</td>\n",
       "      <td>Not in universe</td>\n",
       "      <td>2</td>\n",
       "      <td>52</td>\n",
       "      <td>94</td>\n",
       "      <td>1</td>\n",
       "      <td>1</td>\n",
       "    </tr>\n",
       "    <tr>\n",
       "      <th>1</th>\n",
       "      <td>49</td>\n",
       "      <td>Private</td>\n",
       "      <td>45</td>\n",
       "      <td>12</td>\n",
       "      <td>Bachelors degree(BA AB BS)</td>\n",
       "      <td>0</td>\n",
       "      <td>Not in universe</td>\n",
       "      <td>Married-civilian spouse present</td>\n",
       "      <td>Other professional services</td>\n",
       "      <td>Professional specialty</td>\n",
       "      <td>...</td>\n",
       "      <td>United-States</td>\n",
       "      <td>United-States</td>\n",
       "      <td>Native- Born in the United States</td>\n",
       "      <td>0</td>\n",
       "      <td>No</td>\n",
       "      <td>1</td>\n",
       "      <td>30</td>\n",
       "      <td>95</td>\n",
       "      <td>0</td>\n",
       "      <td>2</td>\n",
       "    </tr>\n",
       "    <tr>\n",
       "      <th>2</th>\n",
       "      <td>49</td>\n",
       "      <td>Private</td>\n",
       "      <td>12</td>\n",
       "      <td>26</td>\n",
       "      <td>High school graduate</td>\n",
       "      <td>0</td>\n",
       "      <td>Not in universe</td>\n",
       "      <td>Married-civilian spouse present</td>\n",
       "      <td>Manufacturing-durable goods</td>\n",
       "      <td>Adm support including clerical</td>\n",
       "      <td>...</td>\n",
       "      <td>United-States</td>\n",
       "      <td>United-States</td>\n",
       "      <td>Native- Born in the United States</td>\n",
       "      <td>0</td>\n",
       "      <td>Not in universe</td>\n",
       "      <td>2</td>\n",
       "      <td>52</td>\n",
       "      <td>94</td>\n",
       "      <td>0</td>\n",
       "      <td>3</td>\n",
       "    </tr>\n",
       "    <tr>\n",
       "      <th>3</th>\n",
       "      <td>38</td>\n",
       "      <td>Private</td>\n",
       "      <td>3</td>\n",
       "      <td>34</td>\n",
       "      <td>High school graduate</td>\n",
       "      <td>0</td>\n",
       "      <td>Not in universe</td>\n",
       "      <td>Married-civilian spouse present</td>\n",
       "      <td>Mining</td>\n",
       "      <td>Precision production craft &amp; repair</td>\n",
       "      <td>...</td>\n",
       "      <td>United-States</td>\n",
       "      <td>United-States</td>\n",
       "      <td>Native- Born in the United States</td>\n",
       "      <td>2</td>\n",
       "      <td>Not in universe</td>\n",
       "      <td>2</td>\n",
       "      <td>52</td>\n",
       "      <td>94</td>\n",
       "      <td>0</td>\n",
       "      <td>5</td>\n",
       "    </tr>\n",
       "    <tr>\n",
       "      <th>4</th>\n",
       "      <td>46</td>\n",
       "      <td>Not in universe</td>\n",
       "      <td>0</td>\n",
       "      <td>0</td>\n",
       "      <td>Masters degree(MA MS MEng MEd MSW MBA)</td>\n",
       "      <td>0</td>\n",
       "      <td>Not in universe</td>\n",
       "      <td>Married-civilian spouse present</td>\n",
       "      <td>Not in universe or children</td>\n",
       "      <td>Not in universe</td>\n",
       "      <td>...</td>\n",
       "      <td>United-States</td>\n",
       "      <td>United-States</td>\n",
       "      <td>Native- Born in the United States</td>\n",
       "      <td>0</td>\n",
       "      <td>Not in universe</td>\n",
       "      <td>2</td>\n",
       "      <td>0</td>\n",
       "      <td>95</td>\n",
       "      <td>0</td>\n",
       "      <td>6</td>\n",
       "    </tr>\n",
       "  </tbody>\n",
       "</table>\n",
       "<p>5 rows × 42 columns</p>\n",
       "</div>"
      ],
      "text/plain": [
       "   AAGE          ACLSWKR  ADTIND  ADTOCC  \\\n",
       "0    49          Private      43       2   \n",
       "1    49          Private      45      12   \n",
       "2    49          Private      12      26   \n",
       "3    38          Private       3      34   \n",
       "4    46  Not in universe       0       0   \n",
       "\n",
       "                                     AHGA  AHRSPAY           AHSCOL  \\\n",
       "0               Doctorate degree(PhD EdD)        0  Not in universe   \n",
       "1              Bachelors degree(BA AB BS)        0  Not in universe   \n",
       "2                    High school graduate        0  Not in universe   \n",
       "3                    High school graduate        0  Not in universe   \n",
       "4  Masters degree(MA MS MEng MEd MSW MBA)        0  Not in universe   \n",
       "\n",
       "                           AMARITL                       AMJIND  \\\n",
       "0  Married-civilian spouse present                    Education   \n",
       "1  Married-civilian spouse present  Other professional services   \n",
       "2  Married-civilian spouse present  Manufacturing-durable goods   \n",
       "3  Married-civilian spouse present                       Mining   \n",
       "4  Married-civilian spouse present  Not in universe or children   \n",
       "\n",
       "                                AMJOCC  ...       PEMNTVTY       PENATVTY  \\\n",
       "0       Executive admin and managerial  ...  United-States  United-States   \n",
       "1               Professional specialty  ...  United-States  United-States   \n",
       "2       Adm support including clerical  ...  United-States  United-States   \n",
       "3  Precision production craft & repair  ...  United-States  United-States   \n",
       "4                      Not in universe  ...  United-States  United-States   \n",
       "\n",
       "                            PRCITSHP SEOTR           VETQVA VETYN  WKSWORK  \\\n",
       "0  Native- Born in the United States     2  Not in universe     2       52   \n",
       "1  Native- Born in the United States     0               No     1       30   \n",
       "2  Native- Born in the United States     0  Not in universe     2       52   \n",
       "3  Native- Born in the United States     2  Not in universe     2       52   \n",
       "4  Native- Born in the United States     0  Not in universe     2        0   \n",
       "\n",
       "   year  income_morethan_50K Id  \n",
       "0    94                    1  1  \n",
       "1    95                    0  2  \n",
       "2    94                    0  3  \n",
       "3    94                    0  5  \n",
       "4    95                    0  6  \n",
       "\n",
       "[5 rows x 42 columns]"
      ]
     },
     "metadata": {},
     "output_type": "display_data"
    }
   ],
   "source": [
    "#Load data\n",
    "\n",
    "import pandas as pd\n",
    "import numpy as np\n",
    "\n",
    "data_training=pd.read_csv('census-income-training.csv',header=0)\n",
    "data_test=pd.read_csv('census-income-test.csv',header=0)\n",
    "\n",
    "display(data_training.head(n=5))"
   ]
  },
  {
   "cell_type": "markdown",
   "id": "9532a336",
   "metadata": {},
   "source": [
    "I found there were \"? \"in these columns below,so I delete these columns.\n",
    "In addition, I found that all values were the same in column PARENT, so I delete this column too."
   ]
  },
  {
   "cell_type": "code",
   "execution_count": 3,
   "id": "2f8b796a",
   "metadata": {},
   "outputs": [],
   "source": [
    "#Split the data into features and target label and drop invalid feature\n",
    "\n",
    "invalid_feature = 'GRINREG','MIGMTR1','MIGMTR3','MIGSAME','PARENT','PEFNTVTY','PEMNTVTY','PENATVTY'\n",
    "income_raw_training = data_training['income_morethan_50K']\n",
    "features_raw_training = data_training.drop(['income_morethan_50K','Id','GRINREG','MIGMTR1','MIGMTR3','MIGSAME','PARENT','PEFNTVTY','PEMNTVTY','PENATVTY'],axis=1)\n",
    "features_raw_test = data_test.drop(['Id','GRINREG','MIGMTR1','MIGMTR3','MIGSAME','PARENT','PEFNTVTY','PEMNTVTY','PENATVTY'],axis=1)"
   ]
  },
  {
   "cell_type": "markdown",
   "id": "bfc00701",
   "metadata": {},
   "source": [
    "I find some values tend to lie near a single number, or whose values have a non-trivial number of vastly larger or smaller values than that single number. \n",
    "So I apply a logarithmic transformation on the data so that the very large and very small values do not negatively affect the performance of the learning algorithms.\n",
    "Since the logarithm of 0 is undefined, I use a logarithmic transformation with an addition by a small amount above 0."
   ]
  },
  {
   "cell_type": "code",
   "execution_count": 4,
   "id": "1461a48d",
   "metadata": {},
   "outputs": [],
   "source": [
    "#Transforming Skewed Continuous Features\n",
    "skewed = ['AHRSPAY','CAPGAIN', 'CAPLOSS','DIVVAL']\n",
    "features_log_transformed_training = pd.DataFrame(features_raw_training)\n",
    "features_log_transformed_training[skewed] = features_raw_training[skewed].apply(lambda x: np.log(x + 1))\n",
    "features_log_transformed_test = pd.DataFrame(features_raw_test)\n",
    "features_log_transformed_test[skewed] = features_raw_test[skewed].apply(lambda x: np.log(x + 1))"
   ]
  },
  {
   "cell_type": "markdown",
   "id": "15e1744e",
   "metadata": {},
   "source": [
    "The values of some discrete variables vary a lot, so I implement a normalization procedure."
   ]
  },
  {
   "cell_type": "code",
   "execution_count": 5,
   "id": "a9302fd2",
   "metadata": {},
   "outputs": [],
   "source": [
    "from sklearn.preprocessing import MinMaxScaler\n",
    "scaler = MinMaxScaler() \n",
    "numerical = ['AAGE', 'ADTOCC', 'AHRSPAY', 'CAPGAIN','CAPLOSS', 'DIVVAL','HHDREL','NOEMP']\n",
    "features_log_minmax_transform_training = pd.DataFrame(features_log_transformed_training)\n",
    "features_log_minmax_transform_training[numerical] = scaler.fit_transform(features_log_transformed_training[numerical])\n",
    "features_log_minmax_transform_test = pd.DataFrame(features_log_transformed_test)\n",
    "features_log_minmax_transform_test[numerical] = scaler.fit_transform(features_log_transformed_test[numerical])"
   ]
  },
  {
   "cell_type": "markdown",
   "id": "77dd66cc",
   "metadata": {},
   "source": [
    "I use a one-hot encoding procedure to create a \"dummy\" variable for each possible category of each non-numeric feature."
   ]
  },
  {
   "cell_type": "code",
   "execution_count": 6,
   "id": "2fd6be0f",
   "metadata": {},
   "outputs": [],
   "source": [
    "#Convert Categorical Variables\n",
    "features_training_final = pd.get_dummies(features_log_minmax_transform_training)\n",
    "features_test_final = pd.get_dummies(features_log_minmax_transform_test)\n",
    "income_training_final= income_raw_training"
   ]
  },
  {
   "cell_type": "code",
   "execution_count": null,
   "id": "7861441c",
   "metadata": {},
   "outputs": [],
   "source": [
    "display(data_training.head(n=5))  "
   ]
  },
  {
   "cell_type": "markdown",
   "id": "5634d0cf",
   "metadata": {},
   "source": [
    "## Compare the performance of each algorithm: GTB,Desicion Tree,Xgboost,Random forest,SVM,Naive Bayes"
   ]
  },
  {
   "cell_type": "markdown",
   "id": "c41b8cba",
   "metadata": {},
   "source": [
    "I first used train data to compare the performance of each algorithm."
   ]
  },
  {
   "cell_type": "code",
   "execution_count": 7,
   "id": "b61810d7",
   "metadata": {},
   "outputs": [],
   "source": [
    "#Split the Data into Training and Test Sets\n",
    "from sklearn.model_selection import train_test_split\n",
    "x_train, x_test, y_train, y_test = train_test_split(features_training_final,income_training_final,test_size = 0.2,random_state = 0)"
   ]
  },
  {
   "cell_type": "code",
   "execution_count": 9,
   "id": "048f61ae",
   "metadata": {},
   "outputs": [
    {
     "name": "stdout",
     "output_type": "stream",
     "text": [
      "score of Desicion Tree\n",
      "0.9345186014769188\n",
      "Prediction accuracy of GTB\n",
      "              precision    recall  f1-score   support\n",
      "\n",
      "           0       0.94      0.99      0.96     26029\n",
      "           1       0.75      0.40      0.52      2544\n",
      "\n",
      "    accuracy                           0.93     28573\n",
      "   macro avg       0.85      0.69      0.74     28573\n",
      "weighted avg       0.93      0.93      0.93     28573\n",
      "\n"
     ]
    }
   ],
   "source": [
    "#GTB\n",
    "from sklearn.datasets import make_hastie_10_2\n",
    "from sklearn.ensemble import GradientBoostingClassifier\n",
    "\n",
    "GTB = GradientBoostingClassifier()\n",
    "GTB.fit(x_train,y_train)\n",
    "GTB_y_predict=GTB.predict(x_test)\n",
    "GTB.score(x_test,y_test)\n",
    "\n",
    "print('score of Desicion Tree')\n",
    "print(GTB.score(x_test,y_test))\n",
    "\n",
    "from sklearn.metrics import classification_report\n",
    "print('Prediction accuracy of GTB')\n",
    "print(classification_report(y_test,GTB_y_predict))"
   ]
  },
  {
   "cell_type": "code",
   "execution_count": 16,
   "id": "e01e47bc",
   "metadata": {},
   "outputs": [
    {
     "name": "stdout",
     "output_type": "stream",
     "text": [
      "score of Desicion Tree\n",
      "0.9059601721905295\n",
      "Prediction accuracy of Desicion Tree\n",
      "              precision    recall  f1-score   support\n",
      "\n",
      "           0       0.95      0.95      0.95     26029\n",
      "           1       0.47      0.48      0.48      2544\n",
      "\n",
      "    accuracy                           0.91     28573\n",
      "   macro avg       0.71      0.71      0.71     28573\n",
      "weighted avg       0.91      0.91      0.91     28573\n",
      "\n"
     ]
    }
   ],
   "source": [
    "#Desicion Tree\n",
    "from sklearn import tree\n",
    "dt = tree.DecisionTreeClassifier()\n",
    "dt.fit(x_train,y_train)\n",
    "dt_y_predict=dt.predict(x_test)\n",
    "dt.score(x_test,y_test)\n",
    "\n",
    "print('score of Desicion Tree')\n",
    "print(dt.score(x_test,y_test))\n",
    "\n",
    "print('Prediction accuracy of Desicion Tree')\n",
    "print(classification_report(y_test,dt_y_predict))"
   ]
  },
  {
   "cell_type": "code",
   "execution_count": 12,
   "id": "77425785",
   "metadata": {},
   "outputs": [
    {
     "name": "stderr",
     "output_type": "stream",
     "text": [
      "C:\\ProgramData\\Anaconda3\\lib\\site-packages\\xgboost\\sklearn.py:1224: UserWarning: The use of label encoder in XGBClassifier is deprecated and will be removed in a future release. To remove this warning, do the following: 1) Pass option use_label_encoder=False when constructing XGBClassifier object; and 2) Encode your labels (y) as integers starting with 0, i.e. 0, 1, 2, ..., [num_class - 1].\n",
      "  warnings.warn(label_encoder_deprecation_msg, UserWarning)\n"
     ]
    },
    {
     "name": "stdout",
     "output_type": "stream",
     "text": [
      "[09:39:47] WARNING: C:/Users/Administrator/workspace/xgboost-win64_release_1.5.1/src/learner.cc:1115: Starting in XGBoost 1.3.0, the default evaluation metric used with the objective 'binary:logistic' was changed from 'error' to 'logloss'. Explicitly set eval_metric if you'd like to restore the old behavior.\n",
      "score of XGBoost\n",
      "0.940083295418752\n",
      "Prediction accuracy of XGBoost\n",
      "              precision    recall  f1-score   support\n",
      "\n",
      "           0       0.95      0.99      0.97     26029\n",
      "           1       0.77      0.47      0.58      2544\n",
      "\n",
      "    accuracy                           0.94     28573\n",
      "   macro avg       0.86      0.73      0.77     28573\n",
      "weighted avg       0.93      0.94      0.93     28573\n",
      "\n"
     ]
    }
   ],
   "source": [
    "#Xgboost\n",
    "from xgboost import XGBClassifier\n",
    "xgbc=XGBClassifier()\n",
    "xgbc.fit(x_train,y_train)\n",
    "xgbc_y_predict=xgbc.predict(x_test)\n",
    "xgbc.score(x_test,y_test)\n",
    "\n",
    "print('score of XGBoost')\n",
    "print(xgbc.score(x_test,y_test))\n",
    "\n",
    "print('Prediction accuracy of XGBoost')\n",
    "print(classification_report(y_test,xgbc_y_predict))"
   ]
  },
  {
   "cell_type": "code",
   "execution_count": 18,
   "id": "867bc5c8",
   "metadata": {},
   "outputs": [
    {
     "name": "stdout",
     "output_type": "stream",
     "text": [
      "score of random forest\n",
      "0.934448605326707\n",
      "Prediction accuracy of random forest\n",
      "              precision    recall  f1-score   support\n",
      "\n",
      "           0       0.94      0.99      0.96     26029\n",
      "           1       0.75      0.39      0.52      2544\n",
      "\n",
      "    accuracy                           0.93     28573\n",
      "   macro avg       0.85      0.69      0.74     28573\n",
      "weighted avg       0.93      0.93      0.92     28573\n",
      "\n"
     ]
    }
   ],
   "source": [
    "#Random forest\n",
    "from sklearn.ensemble import RandomForestClassifier\n",
    "rfc=RandomForestClassifier()\n",
    "rfc.fit(x_train,y_train)\n",
    "rfc_y_predict=rfc.predict(x_test)\n",
    "rfc.score(x_test,y_test)\n",
    "\n",
    "print('score of random forest')\n",
    "print(rfc.score(x_test,y_test))\n",
    "\n",
    "print('Prediction accuracy of random forest')\n",
    "print(classification_report(y_test,rfc_y_predict))"
   ]
  },
  {
   "cell_type": "code",
   "execution_count": null,
   "id": "fbdb4055",
   "metadata": {},
   "outputs": [],
   "source": [
    "#SVM\n",
    "from sklearn import svm\n",
    "svm = svm.SVC()\n",
    "svm.fit(x_train, y_train)\n",
    "svm_y_predict=svm.predict(x_test)\n",
    "svm.score(x_train, y_train)\n",
    "\n",
    "print('score of SVM')\n",
    "print(svm.score(x_train, y_train) )\n",
    "\n",
    "print('Prediction accuracy of SVM')\n",
    "print(classification_report(y_test, svm_y_predict))"
   ]
  },
  {
   "cell_type": "code",
   "execution_count": 10,
   "id": "9b1bc496",
   "metadata": {},
   "outputs": [
    {
     "name": "stdout",
     "output_type": "stream",
     "text": [
      "score of Desicion Tree\n",
      "0.6590487523186225\n",
      "Prediction accuracy of Bayesian Network\n",
      "              precision    recall  f1-score   support\n",
      "\n",
      "           0       0.98      0.64      0.77     26029\n",
      "           1       0.19      0.86      0.31      2544\n",
      "\n",
      "    accuracy                           0.66     28573\n",
      "   macro avg       0.58      0.75      0.54     28573\n",
      "weighted avg       0.91      0.66      0.73     28573\n",
      "\n"
     ]
    }
   ],
   "source": [
    "#Naive Bayes\n",
    "from sklearn.naive_bayes import MultinomialNB\n",
    "MNB = MultinomialNB()\n",
    "MNB.fit(x_train,y_train)\n",
    "MNB_y_predict=MNB.predict(x_test)\n",
    "MNB.score(x_test,y_test)\n",
    "\n",
    "print('score of Desicion Tree')\n",
    "print(MNB.score(x_test,y_test))\n",
    "\n",
    "print('Prediction accuracy of Bayesian Network')\n",
    "print(classification_report(y_test,MNB_y_predict))"
   ]
  },
  {
   "cell_type": "markdown",
   "id": "542a0895",
   "metadata": {},
   "source": [
    "I also tried another algorithm Light GBM, but didn't include it in the comparison because it was a simple GTB."
   ]
  },
  {
   "cell_type": "code",
   "execution_count": 22,
   "id": "b01535c8",
   "metadata": {},
   "outputs": [
    {
     "data": {
      "image/png": "[encoded data removed]",
      "text/plain": [
       "<Figure size 432x288 with 1 Axes>"
      ]
     },
     "metadata": {
      "needs_background": "light"
     },
     "output_type": "display_data"
    },
    {
     "data": {
      "image/png": "[encoded data removed]",
      "text/plain": [
       "<Figure size 432x288 with 1 Axes>"
      ]
     },
     "metadata": {
      "needs_background": "light"
     },
     "output_type": "display_data"
    }
   ],
   "source": [
    "#The Performance of Each Algorithm\n",
    "import matplotlib.pyplot as plt\n",
    "from matplotlib.pyplot import MultipleLocator\n",
    "\n",
    "num_list_score =[0.9439988116458705,0.9119132501485443,0.9459298871063577,0.9422162804515746,0.9197118241235889,0.6665181224004754]\n",
    "name_list_score=['GTB','Desicion Tree','Xgboost','Random Forest','SVM','Naive Bayes']\n",
    "plt.bar(range(len(num_list_score)),num_list_score,tick_label=name_list_score)\n",
    "plt.title('F1-Score of Each Algorithm')\n",
    "plt.ylim(0.6,1)\n",
    "plt.show() \n",
    "\n",
    "\n",
    "num_list_score =[0.9439988116458705,0.9119132501485443,0.9459298871063577,0.9422162804515746,0.9197118241235889]\n",
    "name_list_score=['GTB','Desicion Tree','Xgboost','Random Forest','SVM']\n",
    "plt.bar(range(len(num_list_score)),num_list_score,tick_label=name_list_score)\n",
    "plt.title('F1-Score of Each Algorithm')\n",
    "plt.ylim(0.9,0.97)\n",
    "plt.show() \n",
    "\n",
    "#According to the score and accuracy of each algorithm,I found XGBoost to be the best.\n",
    "#Next, I'll use the XGBoost algorithm for further analysis."
   ]
  },
  {
   "cell_type": "markdown",
   "id": "b8139dd5",
   "metadata": {},
   "source": [
    "\n",
    "After discussion with my teammates, I tried to label the missing value NA as a specific label for analysis.  \n",
    "the codes are as follows.  \n",
    "data_training_clean=data_training.replace(regex=[r'\\?'],value=np.nan)  \n",
    "data_training=data_training_clean.fillna(0)  \n",
    "But it turns out that the prediction effect is not as good as deleting these columns.  \n",
    "Therefore, in the subsequent analysis, I will adopt the original data processing method."
   ]
  },
  {
   "cell_type": "markdown",
   "id": "13331d4d",
   "metadata": {},
   "source": [
    "## Tune the Parameter "
   ]
  },
  {
   "cell_type": "markdown",
   "id": "a78be47e",
   "metadata": {},
   "source": [
    "I used GridSearchCV to test the best parameters.  \n",
    "I test the optimal values for max_depth, min_child_weight,gamma,subsample,colsample_bytree"
   ]
  },
  {
   "cell_type": "code",
   "execution_count": 13,
   "id": "8842ce6b",
   "metadata": {},
   "outputs": [
    {
     "name": "stdout",
     "output_type": "stream",
     "text": [
      "XGBClassifier(base_score=0.5, booster='gbtree', colsample_bylevel=1,\n",
      "              colsample_bynode=1, colsample_bytree=1, enable_categorical=False,\n",
      "              gamma=0, gpu_id=-1, importance_type=None,\n",
      "              interaction_constraints='', learning_rate=0.300000012,\n",
      "              max_delta_step=0, max_depth=6, min_child_weight=1, missing=nan,\n",
      "              monotone_constraints='()', n_estimators=100, n_jobs=8,\n",
      "              num_parallel_tree=1, predictor='auto', random_state=0,\n",
      "              reg_alpha=0, reg_lambda=1, scale_pos_weight=1, subsample=1,\n",
      "              tree_method='exact', validate_parameters=1, verbosity=None)\n"
     ]
    }
   ],
   "source": [
    "#View default Values\n",
    "print(xgbc)"
   ]
  },
  {
   "cell_type": "code",
   "execution_count": 14,
   "id": "b4b680ce",
   "metadata": {},
   "outputs": [
    {
     "name": "stdout",
     "output_type": "stream",
     "text": [
      "0.931658  with:   {'max_depth': 3, 'min_child_weight': 1}\n",
      "0.931186  with:   {'max_depth': 3, 'min_child_weight': 3}\n",
      "0.931381  with:   {'max_depth': 3, 'min_child_weight': 5}\n",
      "0.933628  with:   {'max_depth': 5, 'min_child_weight': 1}\n",
      "0.933523  with:   {'max_depth': 5, 'min_child_weight': 3}\n",
      "0.933353  with:   {'max_depth': 5, 'min_child_weight': 5}\n",
      "0.932391  with:   {'max_depth': 7, 'min_child_weight': 1}\n",
      "0.932581  with:   {'max_depth': 7, 'min_child_weight': 3}\n",
      "0.932435  with:   {'max_depth': 7, 'min_child_weight': 5}\n",
      "0.929587  with:   {'max_depth': 9, 'min_child_weight': 1}\n",
      "0.930405  with:   {'max_depth': 9, 'min_child_weight': 3}\n",
      "0.930731  with:   {'max_depth': 9, 'min_child_weight': 5}\n"
     ]
    }
   ],
   "source": [
    "#max_depth 和min_child_weight\n",
    "from sklearn.model_selection import GridSearchCV\n",
    "param_test1 = {\n",
    " 'max_depth':list(range(3,10,2)),\n",
    " 'min_child_weight':list(range(1,6,2))\n",
    "}\n",
    "gsearch1 = GridSearchCV(estimator = XGBClassifier\n",
    "\n",
    "                        (base_score=0.5, booster='gbtree', colsample_bylevel=1,\n",
    "              colsample_bynode=1, colsample_bytree=1, enable_categorical=False,\n",
    "              gamma=0, gpu_id=-1, importance_type=None,\n",
    "              interaction_constraints='', learning_rate=0.300000012,\n",
    "              max_delta_step=0, max_depth=6, min_child_weight=1,\n",
    "              monotone_constraints='()', n_estimators=100, n_jobs=8,\n",
    "              num_parallel_tree=1, predictor='auto', random_state=0,\n",
    "              reg_alpha=0, reg_lambda=1, scale_pos_weight=1, subsample=1,\n",
    "              tree_method='exact', validate_parameters=1, verbosity=None), \n",
    "                        \n",
    "              param_grid = param_test1, scoring='roc_auc',n_jobs=4,refit=False, cv=5)\n",
    "\n",
    "gsearch1.fit(x_train,y_train)\n",
    "means = gsearch1.cv_results_['mean_test_score']\n",
    "params = gsearch1.cv_results_['params']\n",
    "for mean,param in zip(means,params):\n",
    "    print(\"%f  with:   %r\" % (mean,param))"
   ]
  },
  {
   "cell_type": "markdown",
   "id": "07a5587d",
   "metadata": {},
   "source": [
    "a better value of max_depth is 5 ,and a better value of min_child_weight is 1"
   ]
  },
  {
   "cell_type": "code",
   "execution_count": 17,
   "id": "5392de9d",
   "metadata": {},
   "outputs": [
    {
     "name": "stdout",
     "output_type": "stream",
     "text": [
      "0.931658  with:   {'max_depth': 3, 'min_child_weight': 1}\n",
      "0.931469  with:   {'max_depth': 3, 'min_child_weight': 2}\n",
      "0.931186  with:   {'max_depth': 3, 'min_child_weight': 3}\n",
      "0.932864  with:   {'max_depth': 4, 'min_child_weight': 1}\n",
      "0.933689  with:   {'max_depth': 4, 'min_child_weight': 2}\n",
      "0.933059  with:   {'max_depth': 4, 'min_child_weight': 3}\n",
      "0.933628  with:   {'max_depth': 5, 'min_child_weight': 1}\n",
      "0.933618  with:   {'max_depth': 5, 'min_child_weight': 2}\n",
      "0.933523  with:   {'max_depth': 5, 'min_child_weight': 3}\n"
     ]
    }
   ],
   "source": [
    "#max_depth 和min_child_weight again\n",
    "param_test2 = {\n",
    " 'max_depth':list(range(3,6,1)),\n",
    " 'min_child_weight':list(range(1,4,1))\n",
    "}\n",
    "gsearch2 = GridSearchCV(estimator = XGBClassifier\n",
    "\n",
    "                        (base_score=0.5, booster='gbtree', colsample_bylevel=1,\n",
    "              colsample_bynode=1, colsample_bytree=1, enable_categorical=False,\n",
    "              gamma=0, gpu_id=-1, importance_type=None,\n",
    "              interaction_constraints='', learning_rate=0.300000012,\n",
    "              max_delta_step=0, max_depth=6, min_child_weight=1,\n",
    "              monotone_constraints='()', n_estimators=100, n_jobs=8,\n",
    "              num_parallel_tree=1, predictor='auto', random_state=0,\n",
    "              reg_alpha=0, reg_lambda=1, scale_pos_weight=1, subsample=1,\n",
    "              tree_method='exact', validate_parameters=1, verbosity=None), \n",
    "                        \n",
    "              param_grid = param_test2, scoring='roc_auc',n_jobs=4,refit=False, cv=5)\n",
    "                        \n",
    "gsearch2.fit(x_train,y_train)\n",
    "means = gsearch2.cv_results_['mean_test_score']\n",
    "params = gsearch2.cv_results_['params']\n",
    "for mean,param in zip(means,params):\n",
    "    print(\"%f  with:   %r\" % (mean,param))"
   ]
  },
  {
   "cell_type": "markdown",
   "id": "0d0fa5f3",
   "metadata": {},
   "source": [
    "a better value of max_depth is 4 ,and a better value of min_child_weight is 2"
   ]
  },
  {
   "cell_type": "code",
   "execution_count": 18,
   "id": "11fa8ac0",
   "metadata": {},
   "outputs": [
    {
     "name": "stdout",
     "output_type": "stream",
     "text": [
      "0.933689  with:   {'gamma': 0.0}\n",
      "0.933320  with:   {'gamma': 0.1}\n",
      "0.933088  with:   {'gamma': 0.2}\n",
      "0.933113  with:   {'gamma': 0.3}\n",
      "0.933252  with:   {'gamma': 0.4}\n",
      "0.932950  with:   {'gamma': 0.5}\n"
     ]
    }
   ],
   "source": [
    "#gamma\n",
    "param_test3 = {\n",
    " 'gamma':[i/10.0 for i in range(0,6)]\n",
    "}\n",
    "gsearch3 = GridSearchCV(estimator = XGBClassifier\n",
    "\n",
    "                        (base_score=0.5, booster='gbtree', colsample_bylevel=1,\n",
    "              colsample_bynode=1, colsample_bytree=1, enable_categorical=False,\n",
    "              gamma=0, gpu_id=-1, importance_type=None,\n",
    "              interaction_constraints='', learning_rate=0.300000012,\n",
    "              max_delta_step=0, max_depth=4, min_child_weight=2,\n",
    "              monotone_constraints='()', n_estimators=100, n_jobs=8,\n",
    "              num_parallel_tree=1, predictor='auto', random_state=0,\n",
    "              reg_alpha=0, reg_lambda=1, scale_pos_weight=1, subsample=1,\n",
    "              tree_method='exact', validate_parameters=1, verbosity=None), \n",
    "                        \n",
    "              param_grid = param_test3, scoring='roc_auc',n_jobs=4,refit=False, cv=5)\n",
    "\n",
    "gsearch3.fit(x_train,y_train)\n",
    "means = gsearch3.cv_results_['mean_test_score']\n",
    "params = gsearch3.cv_results_['params']\n",
    "for mean,param in zip(means,params):\n",
    "    print(\"%f  with:   %r\" % (mean,param))"
   ]
  },
  {
   "cell_type": "markdown",
   "id": "2b78b81d",
   "metadata": {},
   "source": [
    "a better value of gamma is 0"
   ]
  },
  {
   "cell_type": "code",
   "execution_count": 19,
   "id": "3d9f9d1e",
   "metadata": {},
   "outputs": [
    {
     "name": "stdout",
     "output_type": "stream",
     "text": [
      "0.932468  with:   {'colsample_bytree': 0.75, 'subsample': 0.75}\n",
      "0.933095  with:   {'colsample_bytree': 0.75, 'subsample': 0.8}\n",
      "0.933492  with:   {'colsample_bytree': 0.75, 'subsample': 0.85}\n",
      "0.933316  with:   {'colsample_bytree': 0.75, 'subsample': 0.9}\n",
      "0.933004  with:   {'colsample_bytree': 0.75, 'subsample': 0.95}\n",
      "0.933095  with:   {'colsample_bytree': 0.8, 'subsample': 0.75}\n",
      "0.933183  with:   {'colsample_bytree': 0.8, 'subsample': 0.8}\n",
      "0.933074  with:   {'colsample_bytree': 0.8, 'subsample': 0.85}\n",
      "0.933166  with:   {'colsample_bytree': 0.8, 'subsample': 0.9}\n",
      "0.932996  with:   {'colsample_bytree': 0.8, 'subsample': 0.95}\n",
      "0.932922  with:   {'colsample_bytree': 0.85, 'subsample': 0.75}\n",
      "0.932943  with:   {'colsample_bytree': 0.85, 'subsample': 0.8}\n",
      "0.933233  with:   {'colsample_bytree': 0.85, 'subsample': 0.85}\n",
      "0.933251  with:   {'colsample_bytree': 0.85, 'subsample': 0.9}\n",
      "0.932665  with:   {'colsample_bytree': 0.85, 'subsample': 0.95}\n",
      "0.933161  with:   {'colsample_bytree': 0.9, 'subsample': 0.75}\n",
      "0.933055  with:   {'colsample_bytree': 0.9, 'subsample': 0.8}\n",
      "0.933167  with:   {'colsample_bytree': 0.9, 'subsample': 0.85}\n",
      "0.933232  with:   {'colsample_bytree': 0.9, 'subsample': 0.9}\n",
      "0.933145  with:   {'colsample_bytree': 0.9, 'subsample': 0.95}\n",
      "0.933047  with:   {'colsample_bytree': 0.95, 'subsample': 0.75}\n",
      "0.933038  with:   {'colsample_bytree': 0.95, 'subsample': 0.8}\n",
      "0.933106  with:   {'colsample_bytree': 0.95, 'subsample': 0.85}\n",
      "0.933151  with:   {'colsample_bytree': 0.95, 'subsample': 0.9}\n",
      "0.933477  with:   {'colsample_bytree': 0.95, 'subsample': 0.95}\n"
     ]
    }
   ],
   "source": [
    "#subsample,colsample_bytree\n",
    "param_test4 = {\n",
    " 'subsample':[i/100.0 for i in range(75,100,5)],\n",
    " 'colsample_bytree':[i/100.0 for i in range(75,100,5)]\n",
    "}\n",
    "\n",
    "gsearch4 = GridSearchCV(estimator = XGBClassifier\n",
    "\n",
    "                        (base_score=0.5, booster='gbtree', colsample_bylevel=1,\n",
    "              colsample_bynode=1, colsample_bytree=1, enable_categorical=False,\n",
    "              gamma=0, gpu_id=-1, importance_type=None,\n",
    "              interaction_constraints='', learning_rate=0.300000012,\n",
    "              max_delta_step=0, max_depth=4, min_child_weight=2,\n",
    "              monotone_constraints='()', n_estimators=100, n_jobs=8,\n",
    "              num_parallel_tree=1, predictor='auto', random_state=0,\n",
    "              reg_alpha=0, reg_lambda=1, scale_pos_weight=1, subsample=1,\n",
    "              tree_method='exact', validate_parameters=1, verbosity=None), \n",
    "                        \n",
    "              param_grid = param_test4, scoring='roc_auc',n_jobs=4,refit=False, cv=5)\n",
    "\n",
    "gsearch4.fit(x_train,y_train)\n",
    "means = gsearch4.cv_results_['mean_test_score']\n",
    "params = gsearch4.cv_results_['params']\n",
    "for mean,param in zip(means,params):\n",
    "    print(\"%f  with:   %r\" % (mean,param))"
   ]
  },
  {
   "cell_type": "markdown",
   "id": "4af4595b",
   "metadata": {},
   "source": [
    "'colsample_bytree': 0.75, 'subsample': 0.85"
   ]
  },
  {
   "cell_type": "markdown",
   "id": "c26b6382",
   "metadata": {},
   "source": [
    "The model after parameter tuning is shown below"
   ]
  },
  {
   "cell_type": "code",
   "execution_count": 20,
   "id": "632386a2",
   "metadata": {},
   "outputs": [
    {
     "name": "stderr",
     "output_type": "stream",
     "text": [
      "C:\\ProgramData\\Anaconda3\\lib\\site-packages\\xgboost\\sklearn.py:1224: UserWarning: The use of label encoder in XGBClassifier is deprecated and will be removed in a future release. To remove this warning, do the following: 1) Pass option use_label_encoder=False when constructing XGBClassifier object; and 2) Encode your labels (y) as integers starting with 0, i.e. 0, 1, 2, ..., [num_class - 1].\n",
      "  warnings.warn(label_encoder_deprecation_msg, UserWarning)\n"
     ]
    },
    {
     "name": "stdout",
     "output_type": "stream",
     "text": [
      "[11:26:15] WARNING: C:/Users/Administrator/workspace/xgboost-win64_release_1.5.1/src/learner.cc:1115: Starting in XGBoost 1.3.0, the default evaluation metric used with the objective 'binary:logistic' was changed from 'error' to 'logloss'. Explicitly set eval_metric if you'd like to restore the old behavior.\n",
      "score of XGBoost\n",
      "0.9389633570153642\n",
      "Prediction accuracy of XGBoost\n",
      "              precision    recall  f1-score   support\n",
      "\n",
      "           0       0.95      0.99      0.97     26029\n",
      "           1       0.76      0.46      0.57      2544\n",
      "\n",
      "    accuracy                           0.94     28573\n",
      "   macro avg       0.85      0.72      0.77     28573\n",
      "weighted avg       0.93      0.94      0.93     28573\n",
      "\n"
     ]
    }
   ],
   "source": [
    "xgbc=XGBClassifier(base_score=0.5, booster='gbtree', colsample_bylevel=1,\n",
    "              colsample_bynode=1, colsample_bytree=0.75, enable_categorical=False,\n",
    "              gamma=0, gpu_id=-1, importance_type=None,\n",
    "              interaction_constraints='', learning_rate=0.300000012,\n",
    "              max_delta_step=0, max_depth=4, min_child_weight=2,\n",
    "              monotone_constraints='()', n_estimators=100, n_jobs=8,\n",
    "              num_parallel_tree=1, predictor='auto', random_state=0,\n",
    "              reg_alpha=0, reg_lambda=1, scale_pos_weight=1, subsample=0.85,\n",
    "              tree_method='exact', validate_parameters=1, verbosity=None)\n",
    "\n",
    "xgbc.fit(x_train,y_train)\n",
    "xgbc_y_predict=xgbc.predict(x_test)\n",
    "xgbc.score(x_test,y_test)\n",
    "print('score of XGBoost')\n",
    "print(xgbc.score(x_test,y_test))\n",
    "\n",
    "print('Prediction accuracy of XGBoost')\n",
    "print(classification_report(y_test,xgbc_y_predict))"
   ]
  },
  {
   "cell_type": "code",
   "execution_count": 24,
   "id": "9f48a3ad",
   "metadata": {},
   "outputs": [
    {
     "data": {
      "image/png": "[encoded data removed]",
      "text/plain": [
       "<Figure size 432x288 with 1 Axes>"
      ]
     },
     "metadata": {
      "needs_background": "light"
     },
     "output_type": "display_data"
    }
   ],
   "source": [
    "#Compare the performance before and after tuning\n",
    "\n",
    "num_list_score =[0.9459298871063577,0.9389633570153642]\n",
    "name_list_score=['Xgboost-before','Xgboost-after']\n",
    "plt.bar(range(len(num_list_score)),num_list_score,tick_label=name_list_score)\n",
    "plt.title('F1-Score of Each Algorithm')\n",
    "plt.ylim(0.93,0.95)\n",
    "plt.show() \n"
   ]
  },
  {
   "cell_type": "markdown",
   "id": "8338a4c4",
   "metadata": {},
   "source": [
    "After selecting the optimal algorithm and adjusting the relevant parameters, we use this model for prediction,the code are as follow"
   ]
  },
  {
   "cell_type": "code",
   "execution_count": null,
   "id": "f50200f0",
   "metadata": {},
   "outputs": [],
   "source": [
    "#Prediction\n",
    "\n",
    "xgbc=XGBClassifier()\n",
    "\n",
    "xgbc.fit(x_train,y_train)\n",
    "xgbc_y_predict=xgbc.predict(x_test)\n",
    "xgbc_predict = pd.DataFrame(xgbc_y_predict,columns=['income_morethan_50K'])\n",
    "xgbc_predict.to_csv('xgbc_predict.csv')\n"
   ]
  }
 ],
 "metadata": {
  "kernelspec": {
   "display_name": "Python 3",
   "language": "python",
   "name": "python3"
  },
  "language_info": {
   "codemirror_mode": {
    "name": "ipython",
    "version": 3
   },
   "file_extension": ".py",
   "mimetype": "text/x-python",
   "name": "python",
   "nbconvert_exporter": "python",
   "pygments_lexer": "ipython3",
   "version": "3.8.8"
  }
 },
 "nbformat": 4,
 "nbformat_minor": 5
}
